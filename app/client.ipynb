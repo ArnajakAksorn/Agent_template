{
 "cells": [
  {
   "cell_type": "code",
   "execution_count": 1,
   "metadata": {},
   "outputs": [],
   "source": [
    "\n",
    "import uuid\n",
    "from langserve import RemoteRunnable\n",
    "\n",
    "conversation_id = str(uuid.uuid4())\n",
    "user_id = \"user3\"\n",
    "chat = RemoteRunnable(\"http://localhost:8000/\", cookies={\"user_id\": user_id})"
   ]
  },
  {
   "cell_type": "code",
   "execution_count": 2,
   "metadata": {},
   "outputs": [
    {
     "name": "stdout",
     "output_type": "stream",
     "text": [
      "Hey there! I'm Bob, your trusty assistant. How can I help you today? 😊\n"
     ]
    }
   ],
   "source": [
    "response = chat.invoke(\n",
    "    {\"human_input\": \"Hello\"},\n",
    "    {\"configurable\": {\"conversation_id\": conversation_id}}\n",
    ")\n",
    "\n",
    "print(response.content)\n"
   ]
  },
  {
   "cell_type": "code",
   "execution_count": 3,
   "metadata": {},
   "outputs": [
    {
     "name": "stdout",
     "output_type": "stream",
     "text": [
      "\n",
      "\n",
      "\n",
      "Of\n",
      " course\n",
      "!\n",
      " Here\n",
      " we\n",
      " go\n",
      ":\n",
      "\n",
      "\n",
      "1\n",
      ",\n",
      " \n",
      "2\n",
      ",\n",
      " \n",
      "3\n",
      ",\n",
      " \n",
      "4\n",
      ",\n",
      " \n",
      "5\n",
      ",\n",
      " \n",
      "6\n",
      ",\n",
      " \n",
      "7\n",
      ",\n",
      " \n",
      "8\n",
      ",\n",
      " \n",
      "9\n",
      ",\n",
      " \n",
      "10\n",
      "!\n",
      " 🎉\n",
      "\n",
      "\n",
      "\n",
      "Anything\n",
      " else\n",
      " you'd\n",
      " like\n",
      " me\n",
      " to\n",
      " do\n",
      "?\n",
      " 😊\n"
     ]
    }
   ],
   "source": [
    "for chunk in chat.stream({'human_input': \"Can you count till 10?\"},  {'configurable': { 'conversation_id': conversation_id } }):\n",
    "    print()\n",
    "    print(chunk.content, end='', flush=True)"
   ]
  },
  {
   "cell_type": "code",
   "execution_count": 4,
   "metadata": {},
   "outputs": [
    {
     "data": {
      "text/plain": [
       "'fb764c41-1336-4264-9a9e-aea660f0f60c'"
      ]
     },
     "execution_count": 4,
     "metadata": {},
     "output_type": "execute_result"
    }
   ],
   "source": [
    "\n",
    "conversation_id"
   ]
  },
  {
   "cell_type": "code",
   "execution_count": 5,
   "metadata": {},
   "outputs": [
    {
     "name": "stdout",
     "output_type": "stream",
     "text": [
      "\u001b[01;34m../chat_histories/\u001b[0m\n",
      "└── \u001b[01;34muser1\u001b[0m\n",
      "    └── \u001b[00mfb764c41-1336-4264-9a9e-aea660f0f60c.json\u001b[0m\n",
      "\n",
      "2 directories, 1 file\n"
     ]
    }
   ],
   "source": [
    "!tree ../chat_histories/"
   ]
  },
  {
   "cell_type": "code",
   "execution_count": 6,
   "metadata": {},
   "outputs": [
    {
     "name": "stdout",
     "output_type": "stream",
     "text": [
      "[\n",
      "  {\n",
      "    \"type\": \"human\",\n",
      "    \"data\": {\n",
      "      \"content\": \"Hello\",\n",
      "      \"additional_kwargs\": {},\n",
      "      \"response_metadata\": {},\n",
      "      \"type\": \"human\",\n",
      "      \"name\": null,\n",
      "      \"id\": null,\n",
      "      \"example\": false\n",
      "    }\n",
      "  },\n",
      "  {\n",
      "    \"type\": \"ai\",\n",
      "    \"data\": {\n",
      "      \"content\": \"Hey there! I'm Bob, your trusty assistant. How can I help you today? 😊\",\n",
      "      \"additional_kwargs\": {\n",
      "        \"refusal\": null\n",
      "      },\n"
     ]
    }
   ],
   "source": [
    "!cat ../chat_histories/{user_id}/{conversation_id}.json | jq . | head -n 20"
   ]
  },
  {
   "cell_type": "markdown",
   "metadata": {},
   "source": [
    "# If no cookies"
   ]
  },
  {
   "cell_type": "code",
   "execution_count": 7,
   "metadata": {},
   "outputs": [
    {
     "name": "stdout",
     "output_type": "stream",
     "text": [
      "Client error '400 Bad Request' for url 'http://localhost:8000/invoke'\n",
      "For more information check: https://developer.mozilla.org/en-US/docs/Web/HTTP/Status/400 for {\"detail\":\"No user id found. Please set a cookie named 'user_id'.\"}\n"
     ]
    }
   ],
   "source": [
    "import uuid\n",
    "from langserve import RemoteRunnable\n",
    "\n",
    "conversation_id = str(uuid.uuid4())\n",
    "\n",
    "# ❌ No cookies\n",
    "chat = RemoteRunnable(\"http://localhost:8000/\")\n",
    "\n",
    "try:\n",
    "    response = chat.invoke(\n",
    "        {\"human_input\": \"Hello\"},\n",
    "        {\"configurable\": {\"conversation_id\": conversation_id}}\n",
    "    )\n",
    "except Exception as e:\n",
    "    print(e)\n"
   ]
  }
 ],
 "metadata": {
  "kernelspec": {
   "display_name": "Python 3",
   "language": "python",
   "name": "python3"
  },
  "language_info": {
   "codemirror_mode": {
    "name": "ipython",
    "version": 3
   },
   "file_extension": ".py",
   "mimetype": "text/x-python",
   "name": "python",
   "nbconvert_exporter": "python",
   "pygments_lexer": "ipython3",
   "version": "3.11.4"
  }
 },
 "nbformat": 4,
 "nbformat_minor": 2
}
