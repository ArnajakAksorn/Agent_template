{
 "cells": [
  {
   "cell_type": "code",
   "execution_count": 1,
   "metadata": {},
   "outputs": [],
   "source": [
    "\n",
    "import uuid\n",
    "from langserve import RemoteRunnable\n",
    "\n",
    "conversation_id = str(uuid.uuid4())\n",
    "user_id = \"Aksorn1\"\n",
    "chat = RemoteRunnable(\"http://localhost:8000/\", cookies={\"user_id\": user_id})"
   ]
  },
  {
   "cell_type": "code",
   "execution_count": 2,
   "metadata": {},
   "outputs": [
    {
     "name": "stdout",
     "output_type": "stream",
     "text": [
      "Ahoy, matey! Ye be greetin' the world, eh? Well, shiver me timbers, ye've got the spirit! What be bringin' ye to these waters today?\n"
     ]
    }
   ],
   "source": [
    "response = chat.invoke(\n",
    "    {\"human_input\": \"Hello world!\"},\n",
    "    {\"configurable\": {\"conversation_id\": conversation_id}}\n",
    ")\n",
    "\n",
    "print(response.content)\n"
   ]
  },
  {
   "cell_type": "code",
   "execution_count": 3,
   "metadata": {},
   "outputs": [
    {
     "name": "stdout",
     "output_type": "stream",
     "text": [
      "\n",
      "\n",
      "\n",
      "A\n",
      "ye\n",
      " aye\n",
      ",\n",
      " captain\n",
      "!\n",
      " I\n",
      "’ll\n",
      " be\n",
      " count\n",
      "in\n",
      "’\n",
      " like\n",
      " a\n",
      " true\n",
      " pirate\n",
      ":\n",
      "\n",
      "\n",
      "1\n",
      " -\n",
      " One\n",
      " doub\n",
      "loon\n",
      "  \n",
      "\n",
      "2\n",
      " -\n",
      " Two\n",
      " treasures\n",
      "  \n",
      "\n",
      "3\n",
      " -\n",
      " Three\n",
      " ships\n",
      "  \n",
      "\n",
      "4\n",
      " -\n",
      " Four\n",
      " cannon\n",
      "balls\n",
      "  \n",
      "\n",
      "5\n",
      " -\n",
      " Five\n",
      " parro\n",
      "ts\n",
      "  \n",
      "\n",
      "6\n",
      " -\n",
      " Six\n",
      " swords\n",
      "  \n",
      "\n",
      "7\n",
      " -\n",
      " Seven\n",
      " seas\n",
      "  \n",
      "\n",
      "8\n",
      " -\n",
      " Eight\n",
      " barrels\n",
      " o\n",
      "’\n",
      " rum\n",
      "  \n",
      "\n",
      "9\n",
      " -\n",
      " Nine\n",
      " pieces\n",
      " o\n",
      "’\n",
      " eight\n",
      "  \n",
      "\n",
      "10\n",
      " -\n",
      " Ten\n",
      " gold\n",
      " coins\n",
      "  \n",
      "\n",
      "\n",
      "There\n",
      " ye\n",
      " have\n",
      " it\n",
      ",\n",
      " mate\n",
      "y\n",
      "!\n",
      " What\n",
      " be\n",
      " next\n",
      " on\n",
      " yer\n",
      " mind\n",
      "?\n"
     ]
    }
   ],
   "source": [
    "for chunk in chat.stream({'human_input': \"Can you count till 10?\"},  {'configurable': { 'conversation_id': conversation_id } }):\n",
    "    print()\n",
    "    print(chunk.content, end='', flush=True)"
   ]
  },
  {
   "cell_type": "code",
   "execution_count": 4,
   "metadata": {},
   "outputs": [
    {
     "data": {
      "text/plain": [
       "'ed88c7ed-adfb-4d69-8f57-2f6dbdc68760'"
      ]
     },
     "execution_count": 4,
     "metadata": {},
     "output_type": "execute_result"
    }
   ],
   "source": [
    "\n",
    "conversation_id"
   ]
  },
  {
   "cell_type": "code",
   "execution_count": 5,
   "metadata": {},
   "outputs": [
    {
     "name": "stdout",
     "output_type": "stream",
     "text": [
      "\u001b[01;34m../chat_histories/\u001b[0m\n",
      "├── \u001b[01;34mAksorn1\u001b[0m\n",
      "│   └── \u001b[00med88c7ed-adfb-4d69-8f57-2f6dbdc68760.json\u001b[0m\n",
      "├── \u001b[01;34muser1\u001b[0m\n",
      "│   ├── \u001b[00m72665fd9-4f50-4503-a967-2bc8b646381b.json\u001b[0m\n",
      "│   └── \u001b[00mfb764c41-1336-4264-9a9e-aea660f0f60c.json\u001b[0m\n",
      "├── \u001b[01;34muser2\u001b[0m\n",
      "│   ├── \u001b[00m08f29ae6-af2d-4d1d-ab89-63b91dabb6f0.json\u001b[0m\n",
      "│   ├── \u001b[00m223a1b1f-90ba-4e41-92c4-adf80c86c801.json\u001b[0m\n",
      "│   └── \u001b[00mf74b8793-56e8-4a1e-ad9b-5a18aeb83500.json\u001b[0m\n",
      "├── \u001b[01;34muser3\u001b[0m\n",
      "│   └── \u001b[00mdd26a3ef-0f30-43f7-879b-d18ee8032051.json\u001b[0m\n",
      "└── \u001b[01;34muser4\u001b[0m\n",
      "    ├── \u001b[00m35e7bc86-24b7-4305-832d-39714a5646e0.json\u001b[0m\n",
      "    └── \u001b[00m8f84e985-f433-4de7-b590-86d9606ddf54.json\u001b[0m\n",
      "\n",
      "6 directories, 9 files\n"
     ]
    }
   ],
   "source": [
    "!tree ../chat_histories/"
   ]
  },
  {
   "cell_type": "code",
   "execution_count": 6,
   "metadata": {},
   "outputs": [
    {
     "name": "stdout",
     "output_type": "stream",
     "text": [
      "[\n",
      "  {\n",
      "    \"type\": \"human\",\n",
      "    \"data\": {\n",
      "      \"content\": \"Hello world!\",\n",
      "      \"additional_kwargs\": {},\n",
      "      \"response_metadata\": {},\n",
      "      \"type\": \"human\",\n",
      "      \"name\": null,\n",
      "      \"id\": null,\n",
      "      \"example\": false\n",
      "    }\n",
      "  },\n",
      "  {\n",
      "    \"type\": \"ai\",\n",
      "    \"data\": {\n",
      "      \"content\": \"Ahoy, matey! Ye be greetin' the world, eh? Well, shiver me timbers, ye've got the spirit! What be bringin' ye to these waters today?\",\n",
      "      \"additional_kwargs\": {\n",
      "        \"refusal\": null\n",
      "      },\n"
     ]
    }
   ],
   "source": [
    "!cat ../chat_histories/{user_id}/{conversation_id}.json | jq . | head -n 20"
   ]
  },
  {
   "cell_type": "markdown",
   "metadata": {},
   "source": [
    "# If no cookies"
   ]
  },
  {
   "cell_type": "code",
   "execution_count": 7,
   "metadata": {},
   "outputs": [
    {
     "name": "stdout",
     "output_type": "stream",
     "text": [
      "Client error '400 Bad Request' for url 'http://localhost:8000/invoke'\n",
      "For more information check: https://developer.mozilla.org/en-US/docs/Web/HTTP/Status/400 for {\"detail\":\"No user id found. Please set a cookie named 'user_id'.\"}\n"
     ]
    }
   ],
   "source": [
    "import uuid\n",
    "from langserve import RemoteRunnable\n",
    "\n",
    "conversation_id = str(uuid.uuid4())\n",
    "\n",
    "# ❌ No cookies\n",
    "chat = RemoteRunnable(\"http://localhost:8000/\")\n",
    "\n",
    "try:\n",
    "    response = chat.invoke(\n",
    "        {\"human_input\": \"Hello\"},\n",
    "        {\"configurable\": {\"conversation_id\": conversation_id}}\n",
    "    )\n",
    "except Exception as e:\n",
    "    print(e)\n"
   ]
  }
 ],
 "metadata": {
  "kernelspec": {
   "display_name": ".venv",
   "language": "python",
   "name": "python3"
  },
  "language_info": {
   "codemirror_mode": {
    "name": "ipython",
    "version": 3
   },
   "file_extension": ".py",
   "mimetype": "text/x-python",
   "name": "python",
   "nbconvert_exporter": "python",
   "pygments_lexer": "ipython3",
   "version": "3.11.4"
  }
 },
 "nbformat": 4,
 "nbformat_minor": 2
}
